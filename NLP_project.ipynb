{
  "nbformat": 4,
  "nbformat_minor": 0,
  "metadata": {
    "colab": {
      "name": "NLP project.ipynb",
      "provenance": [],
      "collapsed_sections": [],
      "authorship_tag": "ABX9TyPYgmFxBrnbGl/w9oZA9qZh",
      "include_colab_link": true
    },
    "kernelspec": {
      "name": "python3",
      "display_name": "Python 3"
    },
    "language_info": {
      "name": "python"
    },
    "accelerator": "GPU"
  },
  "cells": [
    {
      "cell_type": "markdown",
      "metadata": {
        "id": "view-in-github",
        "colab_type": "text"
      },
      "source": [
        "<a href=\"https://colab.research.google.com/github/saihaneesh26/4thsem-daa-lab/blob/main/NLP_project.ipynb\" target=\"_parent\"><img src=\"https://colab.research.google.com/assets/colab-badge.svg\" alt=\"Open In Colab\"/></a>"
      ]
    },
    {
      "cell_type": "code",
      "metadata": {
        "id": "O8_d6La4Ybj3"
      },
      "source": [
        "import tensorflow as tf\n",
        "import numpy as np\n",
        "import os"
      ],
      "execution_count": null,
      "outputs": []
    },
    {
      "cell_type": "code",
      "metadata": {
        "id": "GV0ZS1YSZLUV"
      },
      "source": [
        "path_to_file = tf.keras.utils.get_file('shakespeare.txt', 'https://storage.googleapis.com/download.tensorflow.org/data/shakespeare.txt')\n"
      ],
      "execution_count": null,
      "outputs": []
    },
    {
      "cell_type": "code",
      "metadata": {
        "id": "BUhcaVpTZMZ0"
      },
      "source": [
        "train_text = open(path_to_file,'rb').read()\n",
        "train_text = train_text.decode(encoding=\"utf-8\")"
      ],
      "execution_count": null,
      "outputs": []
    },
    {
      "cell_type": "code",
      "metadata": {
        "colab": {
          "base_uri": "https://localhost:8080/"
        },
        "id": "QmTXsWhlZhL3",
        "outputId": "0ce384ab-a51f-413a-87ea-bee856951b62"
      },
      "source": [
        "len(train_text)"
      ],
      "execution_count": null,
      "outputs": [
        {
          "output_type": "execute_result",
          "data": {
            "text/plain": [
              "1115394"
            ]
          },
          "metadata": {},
          "execution_count": 4
        }
      ]
    },
    {
      "cell_type": "code",
      "metadata": {
        "colab": {
          "base_uri": "https://localhost:8080/"
        },
        "id": "Tb9ZhCBdZjgc",
        "outputId": "b147761a-96a6-42b6-bd8a-c06b14f7453d"
      },
      "source": [
        "#vectorize the text\n",
        "vocab = sorted(set(train_text))\n",
        "print(\"Unique words :\",len(vocab))"
      ],
      "execution_count": null,
      "outputs": [
        {
          "output_type": "stream",
          "name": "stdout",
          "text": [
            "Unique words : 65\n"
          ]
        }
      ]
    },
    {
      "cell_type": "code",
      "metadata": {
        "colab": {
          "base_uri": "https://localhost:8080/"
        },
        "id": "QOgryuUKZv90",
        "outputId": "f4f0bd6e-a6f3-499a-ab20-9f0b6ab2554e"
      },
      "source": [
        "#map the words to unique ids or tokenization\n",
        "char2idx  = {u:i for i,u in enumerate(vocab)}#tokenids\n",
        "idx2char  = np.array(vocab)\n",
        "text_as_input = np.array([char2idx[c] for c in train_text])\n",
        "print(text_as_input[:2])"
      ],
      "execution_count": null,
      "outputs": [
        {
          "output_type": "stream",
          "name": "stdout",
          "text": [
            "[18 47]\n"
          ]
        }
      ]
    },
    {
      "cell_type": "code",
      "metadata": {
        "id": "MwSx0tZnaMhs"
      },
      "source": [
        "#create dataset\n",
        "char_data = tf.data.Dataset.from_tensor_slices(text_as_input)\n",
        "seq_len = 100 #max input len-- len of input must be same  for training\n",
        "seq = char_data.batch(seq_len+1,drop_remainder=True)"
      ],
      "execution_count": null,
      "outputs": []
    },
    {
      "cell_type": "code",
      "metadata": {
        "id": "Ymk324VlavDX"
      },
      "source": [
        "def split_input_target(chunk):\n",
        "  input_text = chunk[:-1]\n",
        "  target = chunk[1:]\n",
        "  return input_text,target\n",
        "\n",
        "dataset = seq.map(split_input_target)\n"
      ],
      "execution_count": null,
      "outputs": []
    },
    {
      "cell_type": "code",
      "metadata": {
        "colab": {
          "base_uri": "https://localhost:8080/"
        },
        "id": "Cbq_TVhKa-ht",
        "outputId": "6ab0c7d1-c801-40a2-9bd5-acdeb5e19cd6"
      },
      "source": [
        "Buffersize = 10000\n",
        "BATCHSIZE = 64\n",
        "dataset = dataset.shuffle(Buffersize).batch(BATCHSIZE,drop_remainder=True)\n",
        "print(dataset)"
      ],
      "execution_count": null,
      "outputs": [
        {
          "output_type": "stream",
          "name": "stdout",
          "text": [
            "<BatchDataset shapes: ((64, 100), (64, 100)), types: (tf.int64, tf.int64)>\n"
          ]
        }
      ]
    },
    {
      "cell_type": "code",
      "metadata": {
        "id": "PFhn9Go6bTlz"
      },
      "source": [
        "#model\n",
        "vocab_len = len(vocab)\n",
        "embedding_dims = 256\n",
        "RNN_units = 1024"
      ],
      "execution_count": null,
      "outputs": []
    },
    {
      "cell_type": "code",
      "metadata": {
        "id": "W5uYlt2LbgJW"
      },
      "source": [
        "# An Embedding Layer: This layer serves as the input layer, accepting input values (in number format) and convert them into vectors.\n",
        "# A GRU layer: An RNN layer filled with 1024 Gradient Descent Units\n",
        "# A Dense layer: To output the result, with vocab_size outputs.\n",
        "\n",
        "def build_model(vocab_len,embedding_dims,RNN_units,batch_size):\n",
        "  model = tf.keras.Sequential([\n",
        "      tf.keras.layers.Embedding(vocab_len, embedding_dims,\n",
        "                              batch_input_shape=[batch_size, None]),\n",
        "      tf.keras.layers.GRU(RNN_units,return_sequences=True,stateful=True,recurrent_initializer='glorot_uniform'),\n",
        "      tf.keras.layers.Dense(vocab_len)\n",
        "  ])\n",
        "  return model"
      ],
      "execution_count": null,
      "outputs": []
    },
    {
      "cell_type": "code",
      "metadata": {
        "colab": {
          "base_uri": "https://localhost:8080/"
        },
        "id": "ebp-zSOecK9e",
        "outputId": "80b2653c-124a-4bcd-d7cc-e6773abc9e7e"
      },
      "source": [
        "\n",
        "model = build_model(vocab_len,embedding_dims,RNN_units,BATCHSIZE)\n",
        "model.summary()"
      ],
      "execution_count": null,
      "outputs": [
        {
          "output_type": "stream",
          "name": "stdout",
          "text": [
            "Model: \"sequential\"\n",
            "_________________________________________________________________\n",
            " Layer (type)                Output Shape              Param #   \n",
            "=================================================================\n",
            " embedding (Embedding)       (64, None, 256)           16640     \n",
            "                                                                 \n",
            " gru (GRU)                   (64, None, 1024)          3938304   \n",
            "                                                                 \n",
            " dense (Dense)               (64, None, 65)            66625     \n",
            "                                                                 \n",
            "=================================================================\n",
            "Total params: 4,021,569\n",
            "Trainable params: 4,021,569\n",
            "Non-trainable params: 0\n",
            "_________________________________________________________________\n"
          ]
        }
      ]
    },
    {
      "cell_type": "code",
      "metadata": {
        "id": "Aahj2eFHqgsQ"
      },
      "source": [
        "#compile\n",
        "def loss(labels, logits):\n",
        "  return tf.keras.losses.sparse_categorical_crossentropy(labels, logits, from_logits=True)\n",
        "\n",
        "model.compile(optimizer='adam',loss=loss,metrics=[['accuracy']])\n"
      ],
      "execution_count": null,
      "outputs": []
    },
    {
      "cell_type": "code",
      "metadata": {
        "id": "6GoBIZtidGwE"
      },
      "source": [
        "checkpoint_callback = tf.keras.callbacks.ModelCheckpoint(\n",
        "    filepath = os.path.join('./training_checkpoints',\"ckpt_{epoch}\"),\n",
        "    save_weights_only = True\n",
        ")"
      ],
      "execution_count": null,
      "outputs": []
    },
    {
      "cell_type": "code",
      "metadata": {
        "colab": {
          "base_uri": "https://localhost:8080/"
        },
        "id": "t_3zHAzrcSJm",
        "outputId": "6c37ab52-32d9-44a5-d1bd-2106bc5342c7"
      },
      "source": [
        "NUM_EPOCHS = 30 # 20 minimum\n",
        "history = model.fit(dataset,epochs = NUM_EPOCHS,callbacks=[checkpoint_callback])"
      ],
      "execution_count": null,
      "outputs": [
        {
          "output_type": "stream",
          "name": "stdout",
          "text": [
            "Epoch 1/10\n",
            "172/172 [==============================] - 28s 137ms/step - loss: 2.6824 - accuracy: 0.2917\n",
            "Epoch 2/10\n",
            "172/172 [==============================] - 25s 137ms/step - loss: 1.9670 - accuracy: 0.4255\n",
            "Epoch 3/10\n",
            "172/172 [==============================] - 25s 137ms/step - loss: 1.6991 - accuracy: 0.4981\n",
            "Epoch 4/10\n",
            "172/172 [==============================] - 25s 137ms/step - loss: 1.5491 - accuracy: 0.5376\n",
            "Epoch 5/10\n",
            "172/172 [==============================] - 25s 138ms/step - loss: 1.4600 - accuracy: 0.5601\n",
            "Epoch 6/10\n",
            "172/172 [==============================] - 25s 139ms/step - loss: 1.4001 - accuracy: 0.5753\n",
            "Epoch 7/10\n",
            "172/172 [==============================] - 26s 139ms/step - loss: 1.3548 - accuracy: 0.5873\n",
            "Epoch 8/10\n",
            "172/172 [==============================] - 25s 139ms/step - loss: 1.3160 - accuracy: 0.5970\n",
            "Epoch 9/10\n",
            "172/172 [==============================] - 25s 138ms/step - loss: 1.2802 - accuracy: 0.6062\n",
            "Epoch 10/10\n",
            "172/172 [==============================] - 25s 138ms/step - loss: 1.2477 - accuracy: 0.6150\n"
          ]
        }
      ]
    },
    {
      "cell_type": "code",
      "metadata": {
        "colab": {
          "base_uri": "https://localhost:8080/"
        },
        "id": "E8kRmQyrqOMb",
        "outputId": "99ecc5b0-2e74-45a7-a8b4-0f91a7ef8085"
      },
      "source": [
        "tf.train.latest_checkpoint('./training_checkpoints')\n",
        "model = build_model(vocab_len, embedding_dims, RNN_units, batch_size=1)\n",
        "model.load_weights(tf.train.latest_checkpoint('./training_checkpoints'))\n",
        "model.build(tf.TensorShape([1, None]))\n",
        "model.summary()"
      ],
      "execution_count": null,
      "outputs": [
        {
          "output_type": "stream",
          "name": "stdout",
          "text": [
            "Model: \"sequential_2\"\n",
            "_________________________________________________________________\n",
            " Layer (type)                Output Shape              Param #   \n",
            "=================================================================\n",
            " embedding_2 (Embedding)     (1, None, 256)            16640     \n",
            "                                                                 \n",
            " gru_2 (GRU)                 (1, None, 1024)           3938304   \n",
            "                                                                 \n",
            " dense_2 (Dense)             (1, None, 65)             66625     \n",
            "                                                                 \n",
            "=================================================================\n",
            "Total params: 4,021,569\n",
            "Trainable params: 4,021,569\n",
            "Non-trainable params: 0\n",
            "_________________________________________________________________\n"
          ]
        }
      ]
    },
    {
      "cell_type": "code",
      "metadata": {
        "id": "OxwEKYh8dlWT"
      },
      "source": [
        "#input for model\n",
        "#no of chars to generate\n",
        "#vectorize the input\n",
        "#temperature value to manually adjust variability of predictions\n",
        "#devectorize teh output and feed it as input for next predictions\n",
        "#join the generated chars to final string\n",
        "\n",
        "def generate_text(model,nums,temp,start):\n",
        "  input_eval = [char2idx[s] for s in start] # string to numbers (vectorizing)\n",
        "  input_eval = tf.expand_dims(input_eval, 0) # dimension expansion\n",
        "  text_generated = [] # Empty string to store our results\n",
        "  model.reset_states() # Clears the hidden states in the RNN\n",
        "\n",
        "  for i in range(nums): #Run a loop for number of characters to generate\n",
        "    predictions = model(input_eval) # prediction for single character\n",
        "    predictions = tf.squeeze(predictions, 0)\n",
        "    predictions /= temp\n",
        "    predicted_id = tf.random.categorical(predictions,num_samples=1)[-1,0].numpy()\n",
        "\n",
        "    input_eval = tf.expand_dims([predicted_id],0)\n",
        "    text_generated.append(idx2char[predicted_id])\n",
        "\n",
        "  return (start+\"\".join(text_generated))\n"
      ],
      "execution_count": null,
      "outputs": []
    },
    {
      "cell_type": "code",
      "metadata": {
        "colab": {
          "base_uri": "https://localhost:8080/"
        },
        "id": "QbskXJeXp27u",
        "outputId": "f21b59d6-77d6-4165-b2d0-160ffa296133"
      },
      "source": [
        "model.summary()"
      ],
      "execution_count": null,
      "outputs": [
        {
          "output_type": "stream",
          "name": "stdout",
          "text": [
            "Model: \"sequential_2\"\n",
            "_________________________________________________________________\n",
            " Layer (type)                Output Shape              Param #   \n",
            "=================================================================\n",
            " embedding_2 (Embedding)     (1, None, 256)            16640     \n",
            "                                                                 \n",
            " gru_2 (GRU)                 (1, None, 1024)           3938304   \n",
            "                                                                 \n",
            " dense_2 (Dense)             (1, None, 65)             66625     \n",
            "                                                                 \n",
            "=================================================================\n",
            "Total params: 4,021,569\n",
            "Trainable params: 4,021,569\n",
            "Non-trainable params: 0\n",
            "_________________________________________________________________\n"
          ]
        }
      ]
    },
    {
      "cell_type": "code",
      "metadata": {
        "id": "FOj5N4UhfZs4",
        "colab": {
          "base_uri": "https://localhost:8080/",
          "height": 235
        },
        "outputId": "566cf88a-2950-49a4-a408-9785a9460a5e"
      },
      "source": [
        "generated_text = generate_text(\n",
        "                    model, \n",
        "                    nums=500, \n",
        "                    temp=1, \n",
        "                    start=\"Haneesh\")\n",
        "print(generated_text)"
      ],
      "execution_count": 1,
      "outputs": [
        {
          "output_type": "error",
          "ename": "NameError",
          "evalue": "ignored",
          "traceback": [
            "\u001b[0;31m---------------------------------------------------------------------------\u001b[0m",
            "\u001b[0;31mNameError\u001b[0m                                 Traceback (most recent call last)",
            "\u001b[0;32m<ipython-input-1-792bce6b0e22>\u001b[0m in \u001b[0;36m<module>\u001b[0;34m()\u001b[0m\n\u001b[0;32m----> 1\u001b[0;31m generated_text = generate_text(\n\u001b[0m\u001b[1;32m      2\u001b[0m                     \u001b[0mmodel\u001b[0m\u001b[0;34m,\u001b[0m\u001b[0;34m\u001b[0m\u001b[0;34m\u001b[0m\u001b[0m\n\u001b[1;32m      3\u001b[0m                     \u001b[0mnums\u001b[0m\u001b[0;34m=\u001b[0m\u001b[0;36m500\u001b[0m\u001b[0;34m,\u001b[0m\u001b[0;34m\u001b[0m\u001b[0;34m\u001b[0m\u001b[0m\n\u001b[1;32m      4\u001b[0m                     \u001b[0mtemp\u001b[0m\u001b[0;34m=\u001b[0m\u001b[0;36m1\u001b[0m\u001b[0;34m,\u001b[0m\u001b[0;34m\u001b[0m\u001b[0;34m\u001b[0m\u001b[0m\n\u001b[1;32m      5\u001b[0m                     start=\"Haneesh\")\n",
            "\u001b[0;31mNameError\u001b[0m: name 'generate_text' is not defined"
          ]
        }
      ]
    }
  ]
}